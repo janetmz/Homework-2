{
 "cells": [
  {
   "cell_type": "markdown",
   "id": "c209b646",
   "metadata": {},
   "source": [
    "### Homework #2"
   ]
  },
  {
   "cell_type": "markdown",
   "id": "869ebfd6",
   "metadata": {},
   "source": [
    "1. Round 4.5667 to the nearest hundreth (2 decimals) using a build-in function, round()."
   ]
  },
  {
   "cell_type": "code",
   "execution_count": 1,
   "id": "d6c22fd5",
   "metadata": {},
   "outputs": [],
   "source": [
    "#importing the library\n",
    "import random as r2d2"
   ]
  },
  {
   "cell_type": "code",
   "execution_count": 3,
   "id": "b3593642",
   "metadata": {},
   "outputs": [
    {
     "data": {
      "text/plain": [
       "4.57"
      ]
     },
     "execution_count": 3,
     "metadata": {},
     "output_type": "execute_result"
    }
   ],
   "source": [
    "# rounding a float to the hundredths place\n",
    "round (4.5667,2)"
   ]
  },
  {
   "cell_type": "markdown",
   "id": "9d3f352c",
   "metadata": {},
   "source": [
    "2. Convert \"657\" to an integer data type"
   ]
  },
  {
   "cell_type": "code",
   "execution_count": 8,
   "id": "d5a67683",
   "metadata": {},
   "outputs": [
    {
     "name": "stdout",
     "output_type": "stream",
     "text": [
      "657\n"
     ]
    }
   ],
   "source": [
    "# converting a string to an integer\n",
    "output = int(\"657\")\n",
    "print (output)"
   ]
  },
  {
   "cell_type": "markdown",
   "id": "a36f06d4",
   "metadata": {},
   "source": [
    "3. Write a program to get two numbers from a user. Then, create a 6-digit code that is a series of randomly generated numbers between the two numbers given by the user. Print the 6-digit code so all digits are separated by a dash. "
   ]
  },
  {
   "cell_type": "code",
   "execution_count": 33,
   "id": "021c92d4",
   "metadata": {},
   "outputs": [
    {
     "name": "stdout",
     "output_type": "stream",
     "text": [
      "please enter a number between 0 and 9:\t0\n",
      "Please enter a second number between 0 and 9:\t9\n",
      "==============================\n",
      "3-4-8-6-4-9\n"
     ]
    }
   ],
   "source": [
    "# Ask the user to  input 2 numbers and print out a randomly created 6-digit code\n",
    "number1 = (int(input(f\"please enter a number between 0 and 9:\\t\")))\n",
    "number2 = (int(input(f\"Please enter a second number between 0 and 9:\\t\")))\n",
    "code1=r2d2.randint(number1,number2)\n",
    "code2=r2d2.randint(number1,number2)\n",
    "code3=r2d2.randint(number1,number2)\n",
    "code4=r2d2.randint(number1,number2)\n",
    "code5=r2d2.randint(number1,number2)\n",
    "code6=r2d2.randint(number1,number2)\n",
    "print (\"=\" * 30)\n",
    "print (f\"{code1}-{code2}-{code3}-{code4}-{code5}-{code6}\")"
   ]
  },
  {
   "cell_type": "markdown",
   "id": "ee1441a1",
   "metadata": {},
   "source": [
    "4. Write a program to remove ALL the white spaces from the following text:\n",
    "\n",
    "        Hickory, dickory, dock,     \n",
    "        The mouse ran up the clock.   \n",
    "        The clock struck one,   \n",
    "        The mouse ran down,                      \n",
    "        Hickory, dickory, dock                  "
   ]
  },
  {
   "cell_type": "code",
   "execution_count": 34,
   "id": "8bf680f1",
   "metadata": {},
   "outputs": [],
   "source": [
    "#Removing all white spaces (blanks) from this text\n",
    "line1=\"Hickory, dickory, dock,\"\n",
    "line2=\"The mouse ran up the clock.\"\n",
    "line3=\"The clock struck one,\"\n",
    "line4=\"The mouse ran down\"\n",
    "line5=\"Hickory, dickory, dock\""
   ]
  },
  {
   "cell_type": "code",
   "execution_count": 43,
   "id": "59d9c718",
   "metadata": {},
   "outputs": [],
   "source": [
    "line1=line1.replace(\" \",\"\")\n",
    "line2=line2.replace(\" \",\"\")\n",
    "line3=line3.replace(\" \",\"\")\n",
    "line4=line4.replace(\" \",\"\")\n",
    "line5=line5.replace(\" \",\"\")"
   ]
  },
  {
   "cell_type": "code",
   "execution_count": 44,
   "id": "11c24618",
   "metadata": {},
   "outputs": [
    {
     "name": "stdout",
     "output_type": "stream",
     "text": [
      "Hickory,dickory,dock,\n",
      "Themouseranuptheclock.\n",
      "Theclockstruckone,\n",
      "Themouserandown\n",
      "Hickory,dickory,dock\n"
     ]
    }
   ],
   "source": [
    "print (line1)\n",
    "print (line2)\n",
    "print (line3)\n",
    "print (line4)\n",
    "print (line5)"
   ]
  },
  {
   "cell_type": "markdown",
   "id": "72d87b5b",
   "metadata": {},
   "source": [
    "5. Write a function to calculate the miles per gallon. Get a miles driven and gallons used from a user and call your function to calculate the miles per gallon."
   ]
  },
  {
   "cell_type": "code",
   "execution_count": 2,
   "id": "27be7372",
   "metadata": {},
   "outputs": [
    {
     "name": "stdout",
     "output_type": "stream",
     "text": [
      "Please enter the miles driven:\t\t100\n",
      "Please enter the gallons used:\t20\n",
      "The miles per gallon is: \t\t\t5.00\n"
     ]
    }
   ],
   "source": [
    "#Calculate mile per gallon given miles driven and gallons used\n",
    "def calculate_mpg (m,g):\n",
    "    m /=g\n",
    "    return m\n",
    "m = float(input(\"Please enter the miles driven:\\t\\t\"))\n",
    "g = float(input(\"Please enter the gallons used:\\t\"))\n",
    "miles_per_gallon = calculate_mpg (m,g)\n",
    "print (f\"The miles per gallon is: \\t\\t\\t{miles_per_gallon:.2f}\")"
   ]
  },
  {
   "cell_type": "markdown",
   "id": "1f3942b8",
   "metadata": {},
   "source": [
    "6. Enhance the <b>compute()</b> function created during Module 2. Enhance the function to compute a circle's area and circumference where:\n",
    "\n",
    " - circle's area = 3.14 X (radius X radius)   \n",
    " - circle's circumference = 3.14 X diameter"
   ]
  },
  {
   "cell_type": "code",
   "execution_count": 113,
   "id": "df43daca",
   "metadata": {},
   "outputs": [
    {
     "name": "stdout",
     "output_type": "stream",
     "text": [
      "Please enter the length of the radius of the circle:\t\t10\n",
      "The area of a circle with a radius of 10.0 is:\t\t\t 314.00 square units\n",
      "The circumference of a circle with a radius of 10.0 is:\t 62.80 units of length\n"
     ]
    }
   ],
   "source": [
    "#Calculate a circle's area and circumference, given a radius\n",
    "def compute_area (radius, pi=3.14):\n",
    "    return pi * radius**2\n",
    "def compute_circumference (radius, pi=3.14):\n",
    "    return radius*2*pi\n",
    "radius=(float(input(\"Please enter the length of the radius of the circle:\\t\\t\")))\n",
    "area=compute_area (radius,pi)\n",
    "circumference = compute_circumference (radius, pi)\n",
    "print (f\"The area of a circle with a radius of {radius} is:\\t\\t\\t {area:.2f} square units\")\n",
    "print (f\"The circumference of a circle with a radius of {radius} is:\\t {circumference:.2f} units of length\")\n"
   ]
  },
  {
   "cell_type": "code",
   "execution_count": 112,
   "id": "fa8de89a",
   "metadata": {},
   "outputs": [
    {
     "name": "stdout",
     "output_type": "stream",
     "text": [
      "Please enter the length of the diameter of the circle:\t\t20\n",
      "The area of a circle with a diameter of 20.0 is:\t\t \t314.00 square units\n",
      "The circumference of a circle with a diameter of 20.0 is:\t 62.80 units of length\n"
     ]
    }
   ],
   "source": [
    "#Alternate solution using a diameter\n",
    "def compute_area (diameter, pi=3.14):\n",
    "    return (diameter/2)**2 * pi\n",
    "def compute_circumference (diameter, pi=3.14):\n",
    "    return diameter*pi\n",
    "diameter=(float(input(\"Please enter the length of the diameter of the circle:\\t\\t\")))\n",
    "area=compute_area (diameter,pi)\n",
    "circumference = compute_circumference (diameter, pi)\n",
    "print (f\"The area of a circle with a diameter of {diameter} is:\\t\\t \\t{area:.2f} square units\")\n",
    "print (f\"The circumference of a circle with a diameter of {diameter} is:\\t {circumference:.2f} units of length\")\n"
   ]
  },
  {
   "cell_type": "markdown",
   "id": "4c5d83bb",
   "metadata": {},
   "source": [
    "7. Write a function called multiply_two() that accepts two parameters. The function should print a message like '15 * 2 = 30'.  Randomly generate two numbers between 1 and 100, then call the function with the two random numbers."
   ]
  },
  {
   "cell_type": "code",
   "execution_count": 86,
   "id": "fe5ca2dc",
   "metadata": {},
   "outputs": [
    {
     "name": "stdout",
     "output_type": "stream",
     "text": [
      "94 * 54 = 5,076\n"
     ]
    }
   ],
   "source": [
    "#defined function to multiply 2 random integers\n",
    "def multiply_two (x,y):\n",
    "    x *=y\n",
    "    return x\n",
    "x= r2d2.randint(1,100)\n",
    "y= r2d2.randint(1,100)\n",
    "result = multiply_two (x,y)\n",
    "print (f\"{x} * {y} = {result:,}\")"
   ]
  },
  {
   "cell_type": "markdown",
   "id": "36865477",
   "metadata": {},
   "source": [
    "8. Create a function for a multiplication table.  Get a number from a user and then call you function which produces a multiplication table for that number.\n",
    "The output should look something like this:\n",
    "\n",
    "        Enter a number: 3\n",
    "        3 X 1 = 3\n",
    "        3 X 2 = 6\n",
    "        3 X 3 = 9\n",
    "        3 X 4 = 12\n",
    "        3 X 5 = 15\n",
    "        3 X 6 = 18\n",
    "        3 X 7 = 21\n",
    "        3 X 8 = 24\n",
    "        3 X 9 = 27"
   ]
  },
  {
   "cell_type": "code",
   "execution_count": 103,
   "id": "b023e863",
   "metadata": {},
   "outputs": [
    {
     "name": "stdout",
     "output_type": "stream",
     "text": [
      "Enter a whole number:  4\n",
      "4 X 1 = 4\n",
      "4 X 2 = 8\n",
      "4 X 3 = 12\n",
      "4 X 4 = 16\n",
      "4 X 5 = 20\n",
      "4 X 6 = 24\n",
      "4 X 7 = 28\n",
      "4 X 8 = 32\n",
      "4 X 9 = 36\n"
     ]
    }
   ],
   "source": [
    "#Multiplication table generator. y is the input number; x the values 1-9. Alternate below.\n",
    "def factor (x,y):\n",
    "     return x*y\n",
    "def up_one (x):\n",
    "        return x+1\n",
    "x = 1\n",
    "y = (int(input(\"Enter a whole number:  \")))\n",
    "output = factor (x,y)\n",
    "print (f\"{y} X {x} = {output}\")\n",
    "x = up_one (x)\n",
    "output = factor (x,y)\n",
    "print (f\"{y} X {x} = {output}\")\n",
    "x = up_one (x)\n",
    "output = factor (x,y)\n",
    "print (f\"{y} X {x} = {output}\")\n",
    "x = up_one (x)\n",
    "output = factor (x,y)\n",
    "print (f\"{y} X {x} = {output}\")\n",
    "x = up_one (x)\n",
    "output = factor (x,y)\n",
    "print (f\"{y} X {x} = {output}\")\n",
    "x = up_one (x)\n",
    "output = factor (x,y)\n",
    "print (f\"{y} X {x} = {output}\")\n",
    "x = up_one (x)\n",
    "output = factor (x,y)\n",
    "print (f\"{y} X {x} = {output}\")\n",
    "x = up_one (x)\n",
    "output = factor (x,y)\n",
    "print (f\"{y} X {x} = {output}\")\n",
    "x = up_one (x)\n",
    "output = factor (x,y)\n",
    "print (f\"{y} X {x} = {output}\")"
   ]
  },
  {
   "cell_type": "code",
   "execution_count": 109,
   "id": "563c8445",
   "metadata": {},
   "outputs": [
    {
     "name": "stdout",
     "output_type": "stream",
     "text": [
      "Enter a whole number:  4\n",
      "4 X 1 = 4\n",
      "4 X 2 = 8\n",
      "4 X 3 = 12\n",
      "4 X 4 = 16\n",
      "4 X 5 = 20\n",
      "4 X 6 = 24\n",
      "4 X 7 = 28\n",
      "4 X 8 = 32\n",
      "4 X 9 = 36\n"
     ]
    }
   ],
   "source": [
    "#alternate Multiplication table generator. y is the input number; x the values 1-9. I figured there had to be an easier way to do this.\n",
    "def factor (x,y):\n",
    "     return x*y\n",
    "def up_one (x):\n",
    "        return x+1\n",
    "x = 1\n",
    "y = (int(input(\"Enter a whole number:  \")))\n",
    "while x < 10:\n",
    "    output = factor (x,y)\n",
    "    print (f\"{y} X {x} = {output}\")\n",
    "    x = up_one (x)"
   ]
  },
  {
   "cell_type": "code",
   "execution_count": null,
   "id": "9341ff34",
   "metadata": {},
   "outputs": [],
   "source": []
  }
 ],
 "metadata": {
  "kernelspec": {
   "display_name": "Python 3",
   "language": "python",
   "name": "python3"
  },
  "language_info": {
   "codemirror_mode": {
    "name": "ipython",
    "version": 3
   },
   "file_extension": ".py",
   "mimetype": "text/x-python",
   "name": "python",
   "nbconvert_exporter": "python",
   "pygments_lexer": "ipython3",
   "version": "3.8.8"
  }
 },
 "nbformat": 4,
 "nbformat_minor": 5
}
